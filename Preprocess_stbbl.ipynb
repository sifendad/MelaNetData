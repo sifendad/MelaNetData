{
 "cells": [
  {
   "cell_type": "markdown",
   "metadata": {},
   "source": [
    "## Combine ST and BBL"
   ]
  },
  {
   "cell_type": "code",
   "execution_count": 3,
   "metadata": {},
   "outputs": [],
   "source": [
    "def write_lines(lines, file):\n",
    "    with open(file, 'w') as f:\n",
    "        for line in lines:\n",
    "            f.write(\"%s\\n\" % line.replace(\"\\n\", \"\"))\n",
    "\n",
    "def read_lines(file):\n",
    "    return open(file).readlines()"
   ]
  },
  {
   "cell_type": "code",
   "execution_count": 10,
   "metadata": {},
   "outputs": [],
   "source": [
    "from random import shuffle\n",
    "\n",
    "stbbl_train = read_lines(\"data_bbl/train_corpus.json\") + read_lines(\"data_bbl/train_corpus.json\")\n",
    "shuffle(stbbl_train)\n",
    "stbbl_valid = read_lines(\"data_bbl/train_corpus.json\") + read_lines(\"data_bbl/train_corpus.json\")\n",
    "write_lines(stbbl_train, \"data_stbbl/train_corpus.json\")\n",
    "write_lines(stbbl_valid, \"data_stbbl/valid_corpus.json\")"
   ]
  }
 ],
 "metadata": {
  "kernelspec": {
   "display_name": "Python 3",
   "language": "python",
   "name": "python3"
  },
  "language_info": {
   "codemirror_mode": {
    "name": "ipython",
    "version": 3
   },
   "file_extension": ".py",
   "mimetype": "text/x-python",
   "name": "python",
   "nbconvert_exporter": "python",
   "pygments_lexer": "ipython3",
   "version": "3.5.2"
  }
 },
 "nbformat": 4,
 "nbformat_minor": 2
}
