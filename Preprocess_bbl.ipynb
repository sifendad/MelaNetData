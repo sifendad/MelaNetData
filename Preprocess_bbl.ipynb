{
 "cells": [
  {
   "cell_type": "markdown",
   "metadata": {},
   "source": [
    "## Prepare wav"
   ]
  },
  {
   "cell_type": "code",
   "execution_count": null,
   "metadata": {},
   "outputs": [],
   "source": [
    "import glob\n",
    "import subprocess\n",
    "\n",
    "def convert_wav(base_dir, output_dir):\n",
    "    files = glob.glob(base_dir + \"/*.mp3\")\n",
    "    if not files:\n",
    "        raise Exception(\"Directory doesn't exist, or there are no mp3 files inside it \" + base_dir)\n",
    "    for file in files:\n",
    "        filename = file.split(\"/\")[-1].split(\".\")[0]\n",
    "        cmd = \"avconv -y -f mp3 -i \" + file + \" -ab 64k -ac 1 -ar 16000 -f wav \" + output_dir + \"/\" + filename + \".wav\"\n",
    "        subprocess.call(cmd, shell=True)\n",
    "\n",
    "convert_wav(\"data_bbl/mp3split\", \"data_bbl/wav\")"
   ]
  },
  {
   "cell_type": "code",
   "execution_count": 13,
   "metadata": {},
   "outputs": [],
   "source": [
    "def write_lines(lines, file):\n",
    "    with open(file, 'w') as f:\n",
    "        for line in lines:\n",
    "            f.write(\"%s\\n\" % line.replace(\"\\n\", \"\"))"
   ]
  },
  {
   "cell_type": "code",
   "execution_count": 8,
   "metadata": {},
   "outputs": [],
   "source": [
    "import glob\n",
    "import os\n",
    "\n",
    "def generate_csv(base_dir, output_file):\n",
    "    trans_aggregate = sorted(glob.glob(base_dir + \"/*\"))\n",
    "    if not trans_aggregate:\n",
    "        raise Exception(\"Directory doesn't exist, or there are no files inside it \" + base_dir)\n",
    "    trans_all = []\n",
    "    for trans in trans_aggregate:\n",
    "        file_prefix = trans.split(\"/\")[-1].split(\".\")[0]\n",
    "        lines = open(trans).readlines()\n",
    "        i = 1\n",
    "        for line in lines:\n",
    "            filename = file_prefix + \"-\" + str(i).zfill(2) + \".wav\"\n",
    "            trans_all.append(line.strip() + \",\" + filename)\n",
    "            i += 1\n",
    "    write_lines(trans_all, output_file)\n",
    "\n",
    "generate_csv(\"data_bbl/transc/processed\", \"data_bbl/trans.csv\")"
   ]
  },
  {
   "cell_type": "markdown",
   "metadata": {},
   "source": [
    "## Prepare json files describing train and valid data "
   ]
  },
  {
   "cell_type": "code",
   "execution_count": 14,
   "metadata": {},
   "outputs": [],
   "source": [
    "from src.json_generator import generate_json\n",
    "from random import shuffle\n",
    "\n",
    "def split_file(file):\n",
    "    lines = open(file).readlines()\n",
    "    train_end = int(len(lines)*.95)\n",
    "    train = lines[:train_end]\n",
    "    valid = lines[train_end:]\n",
    "    return train,valid\n",
    "\n",
    "train,valid = split_file(\"data_bbl/trans.csv\")\n",
    "write_lines(train, \"data_bbl/train_trans.csv\")\n",
    "write_lines(valid, \"data_bbl/valid_trans.csv\")\n",
    "generate_json(\"data_bbl/train_trans.csv\", \"data_bbl/wav\", \"data_bbl/train_corpus.json\")\n",
    "generate_json(\"data_bbl/valid_trans.csv\", \"data_bbl/wav\", \"data_bbl/valid_corpus.json\")"
   ]
  },
  {
   "cell_type": "markdown",
   "metadata": {},
   "source": [
    "## Remove characters with the same sound"
   ]
  },
  {
   "cell_type": "code",
   "execution_count": 15,
   "metadata": {},
   "outputs": [
    {
     "name": "stdout",
     "output_type": "stream",
     "text": [
      "== Unsupported characters ==\n",
      "set()\n",
      "== Character stat ==\n",
      "[(' ', 16978), ('ን', 4854), ('ም', 4604), ('አ', 3416), ('እ', 2911), ('ር', 2603), ('ለ', 2306), ('በ', 2275), ('ው', 2257), ('ት', 2246), ('ል', 1807), ('ስ', 1654), ('ብ', 1537), ('ነ', 1521), ('የ', 1443), ('ች', 1375), ('ወ', 1329), ('ደ', 1325), ('ድ', 1302), ('ህ', 1278), ('ከ', 1218), ('ና', 1210), ('መ', 1162), ('ይ', 1153), ('ሁ', 1079), ('ተ', 1047), ('ያ', 1043), ('ላ', 989), ('ሰ', 952), ('ግ', 946), ('ራ', 930), ('ባ', 914), ('ገ', 891), ('ረ', 757), ('ዚ', 657), ('ሀ', 600), ('ቸ', 546), ('ፍ', 546), ('ሉ', 523), ('ታ', 517), ('ሆ', 511), ('ሄ', 495), ('ጠ', 487), ('ዘ', 484), ('ሳ', 472), ('ቀ', 460), ('ማ', 451), ('ቱ', 430), ('ሱ', 430), ('ዳ', 386), ('ሞ', 367), ('ሴ', 336), ('ዋ', 335), ('ጋ', 334), ('ጥ', 330), ('ቶ', 313), ('ሚ', 293), ('ፈ', 293), ('ቆ', 291), ('ኤ', 289), ('ጣ', 289), ('ቅ', 275), ('ቃ', 271), ('ኝ', 268), ('ጅ', 260), ('ዲ', 259), ('ክ', 245), ('ኔ', 245), ('ጆ', 231), ('ሎ', 224), ('ካ', 219), ('ቹ', 217), ('ኛ', 208), ('ኖ', 199), ('ቤ', 190), ('ሪ', 189), ('ዮ', 189), ('ሩ', 177), ('ፊ', 173), ('ዛ', 171), ('ኦ', 167), ('ዎ', 162), ('ቴ', 153), ('ሌ', 145), ('ፅ', 144), ('ዱ', 140), ('ዜ', 138), ('ጊ', 137), ('ጉ', 136), ('ጐ', 133), ('ኑ', 131), ('ፋ', 128), ('ዶ', 127), ('ጡ', 126), ('ሙ', 125), ('ኋ', 124), ('ሶ', 119), ('ዝ', 119), ('ሸ', 115), ('ሬ', 115), ('ቻ', 113), ('ጌ', 113), ('ሽ', 106), ('ሮ', 97), ('ሜ', 95), ('ቁ', 86), ('ዬ', 85), ('ቡ', 81), ('ቢ', 78), ('ሊ', 77), ('ጁ', 71), ('ኮ', 71), ('ፀ', 67), ('ዙ', 64), ('ዊ', 63), ('ጀ', 60), ('ሻ', 58), ('ሲ', 56), ('ቼ', 54), ('ኘ', 52), ('ጄ', 52), ('ኪ', 52), ('ፉ', 50), ('ዞ', 49), ('ኬ', 47), ('ቦ', 47), ('ጭ', 45), ('ኩ', 44), ('ዴ', 41), ('ጢ', 39), ('ጓ', 39), ('ጨ', 39), ('ጃ', 34), ('ፎ', 34), ('ዩ', 34), ('ቂ', 33), ('ፃ', 29), ('ሹ', 29), ('ኳ', 28), ('ቲ', 25), ('ፌ', 24), ('ሂ', 22), ('ቋ', 22), ('ኞ', 20), ('ሺ', 19), ('ኙ', 19), ('ጫ', 19), ('ጦ', 19), ('ፁ', 17), ('ጂ', 17), ('ኡ', 16), ('ሾ', 14), ('ቺ', 14), ('ቄ', 13), ('ዥ', 11), ('ኢ', 11), ('ጮ', 10), ('ጪ', 9), ('ኒ', 9), ('ጩ', 5), ('ፄ', 5), ('ቾ', 4), ('ዣ', 4), ('ዪ', 4), ('ዌ', 4), ('ዉ', 3), ('ጤ', 3), ('ኚ', 3), ('ሼ', 2), ('ጴ', 2), ('ጲ', 2), ('ጳ', 1), ('ፐ', 1), ('ፆ', 1), ('ጵ', 1), ('ፓ', 1), ('ዦ', 1), ('ዤ', 1), ('ኜ', 1), ('ጶ', 1)]\n",
      "== Unsupported characters ==\n",
      "set()\n",
      "== Character stat ==\n",
      "[(' ', 816), ('ን', 204), ('ም', 192), ('አ', 167), ('እ', 146), ('በ', 136), ('ር', 117), ('ል', 116), ('ው', 102), ('ይ', 91), ('ት', 89), ('ብ', 77), ('ና', 75), ('ለ', 73), ('ስ', 72), ('ከ', 70), ('ባ', 69), ('ች', 65), ('የ', 64), ('ነ', 62), ('ህ', 59), ('ድ', 56), ('ፍ', 55), ('ወ', 54), ('መ', 53), ('ያ', 52), ('ደ', 52), ('ረ', 49), ('ግ', 48), ('ላ', 46), ('ራ', 44), ('ሁ', 43), ('ተ', 42), ('ሰ', 42), ('ቸ', 38), ('ገ', 36), ('ሴ', 36), ('ቀ', 31), ('ቱ', 30), ('ታ', 30), ('ሆ', 30), ('ዮ', 28), ('ቅ', 26), ('ሱ', 26), ('ሀ', 25), ('ዚ', 24), ('ኤ', 23), ('ማ', 23), ('ዳ', 22), ('ክ', 21), ('ዘ', 21), ('ሞ', 20), ('ሉ', 18), ('ፈ', 18), ('ዋ', 17), ('ሳ', 17), ('ቹ', 16), ('ቶ', 16), ('ሬ', 16), ('ዲ', 15), ('ጣ', 15), ('ጆ', 14), ('ሩ', 14), ('ጋ', 14), ('ኝ', 14), ('ጥ', 13), ('ዛ', 13), ('ካ', 12), ('ኖ', 12), ('ቃ', 12), ('ሚ', 12), ('ሎ', 11), ('ፅ', 11), ('ጠ', 11), ('ኔ', 10), ('ሄ', 10), ('ሻ', 10), ('ሽ', 9), ('ፊ', 9), ('ሮ', 9), ('ኋ', 9), ('ቆ', 8), ('ጡ', 8), ('ቻ', 8), ('ኑ', 8), ('ዎ', 8), ('ቦ', 7), ('ሪ', 7), ('ቤ', 7), ('ቴ', 7), ('ኦ', 7), ('ኛ', 7), ('ጐ', 7), ('ጅ', 7), ('ዝ', 6), ('ኩ', 6), ('ፀ', 6), ('ዙ', 6), ('ሶ', 6), ('ጭ', 6), ('ጊ', 6), ('ቼ', 6), ('ፋ', 5), ('ዊ', 5), ('ጉ', 5), ('ዜ', 5), ('ጢ', 5), ('ሙ', 5), ('ሲ', 5), ('ሌ', 5), ('ዶ', 4), ('ኬ', 4), ('ሹ', 4), ('ዱ', 4), ('ኮ', 3), ('ጄ', 3), ('ጀ', 3), ('ኒ', 3), ('ፉ', 3), ('ዥ', 2), ('ሜ', 2), ('ጁ', 2), ('ኪ', 2), ('ሊ', 2), ('ቂ', 2), ('ዬ', 2), ('ቁ', 2), ('ሸ', 2), ('ዩ', 2), ('ቡ', 2), ('ኞ', 2), ('ዉ', 1), ('ጓ', 1), ('ጌ', 1), ('ፃ', 1), ('ቢ', 1), ('ኙ', 1), ('ኘ', 1), ('ጬ', 1), ('ፎ', 1), ('ጫ', 1), ('ቾ', 1), ('ፌ', 1), ('ዞ', 1), ('ቋ', 1)]\n"
     ]
    }
   ],
   "source": [
    "from src.json_generator import generate_json\n",
    "from src.redundant import remove_redundant\n",
    "\n",
    "remove_redundant(\"data_bbl/train_corpus.json\")\n",
    "remove_redundant(\"data_bbl/valid_corpus.json\")"
   ]
  },
  {
   "cell_type": "code",
   "execution_count": null,
   "metadata": {},
   "outputs": [],
   "source": []
  }
 ],
 "metadata": {
  "kernelspec": {
   "display_name": "Python 3",
   "language": "python",
   "name": "python3"
  },
  "language_info": {
   "codemirror_mode": {
    "name": "ipython",
    "version": 3
   },
   "file_extension": ".py",
   "mimetype": "text/x-python",
   "name": "python",
   "nbconvert_exporter": "python",
   "pygments_lexer": "ipython3",
   "version": "3.5.2"
  }
 },
 "nbformat": 4,
 "nbformat_minor": 2
}
