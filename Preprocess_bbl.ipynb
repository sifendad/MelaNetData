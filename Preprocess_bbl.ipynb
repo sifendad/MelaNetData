{
 "cells": [
  {
   "cell_type": "markdown",
   "metadata": {},
   "source": [
    "## Prepare wav"
   ]
  },
  {
   "cell_type": "code",
   "execution_count": null,
   "metadata": {},
   "outputs": [],
   "source": [
    "import glob\n",
    "import subprocess\n",
    "\n",
    "def convert_wav(base_dir, output_dir):\n",
    "    files = glob.glob(base_dir + \"/*.mp3\")\n",
    "    if not files:\n",
    "        raise Exception(\"Directory doesn't exist, or there are no mp3 files inside it \" + base_dir)\n",
    "    for file in files:\n",
    "        filename = file.split(\"/\")[-1].split(\".\")[0]\n",
    "        cmd = \"avconv -y -f mp3 -i \" + file + \" -ab 64k -ac 1 -ar 16000 -f wav \" + output_dir + \"/\" + filename + \".wav\"\n",
    "        subprocess.call(cmd, shell=True)\n",
    "\n",
    "convert_wav(\"data_bbl/mp3split\", \"data_bbl/wav\")"
   ]
  },
  {
   "cell_type": "code",
   "execution_count": 5,
   "metadata": {},
   "outputs": [],
   "source": [
    "import glob\n",
    "import os\n",
    "\n",
    "\n",
    "def generate_csv(base_dir, output_file):\n",
    "    trans_aggregate = sorted(glob.glob(base_dir + \"/*\"))\n",
    "    if not trans_aggregate:\n",
    "        raise Exception(\"Directory doesn't exist, or there are no files inside it \" + base_dir)\n",
    "    trans_all = []\n",
    "    for trans in trans_aggregate:\n",
    "        file_prefix = trans.split(\"/\")[-1].split(\".\")[0]\n",
    "        lines = open(trans).readlines()\n",
    "        i = 1\n",
    "        for line in lines:\n",
    "            filename = file_prefix + \"-\" + str(i).zfill(2) + \".wav\"\n",
    "            trans_all.append(line.strip() + \",\" + filename)\n",
    "            i += 1\n",
    "    with open(output_file, 'w') as f:\n",
    "        for line in trans_all:\n",
    "            f.write(\"%s\\n\" % line)\n",
    "\n",
    "generate_csv(\"data_bbl/transc/processed\", \"data_bbl/train_trans.csv\")"
   ]
  },
  {
   "cell_type": "markdown",
   "metadata": {},
   "source": [
    "## Prepare json files describing train and valid data "
   ]
  },
  {
   "cell_type": "code",
   "execution_count": 1,
   "metadata": {},
   "outputs": [],
   "source": [
    "from src.json_generator import generate_json\n",
    "\n",
    "generate_json(\"data_bbl/train_trans.csv\", \"data_bbl/wav\", \"data_bbl/train_corpus.json\")"
   ]
  },
  {
   "cell_type": "markdown",
   "metadata": {},
   "source": [
    "## Remove characters with the same sound"
   ]
  },
  {
   "cell_type": "code",
   "execution_count": 2,
   "metadata": {},
   "outputs": [
    {
     "name": "stdout",
     "output_type": "stream",
     "text": [
      "== Unsupported characters ==\n",
      "set()\n",
      "== Character stat ==\n",
      "[(' ', 17794), ('ን', 5058), ('ም', 4796), ('አ', 3583), ('እ', 3057), ('ር', 2720), ('በ', 2411), ('ለ', 2379), ('ው', 2359), ('ት', 2335), ('ል', 1923), ('ስ', 1726), ('ብ', 1614), ('ነ', 1583), ('የ', 1507), ('ች', 1440), ('ወ', 1383), ('ደ', 1377), ('ድ', 1358), ('ህ', 1337), ('ከ', 1288), ('ና', 1285), ('ይ', 1244), ('መ', 1215), ('ሁ', 1122), ('ያ', 1095), ('ተ', 1089), ('ላ', 1035), ('ሰ', 994), ('ግ', 994), ('ባ', 983), ('ራ', 974), ('ገ', 927), ('ረ', 806), ('ዚ', 681), ('ሀ', 625), ('ፍ', 601), ('ቸ', 584), ('ታ', 547), ('ሆ', 541), ('ሉ', 541), ('ዘ', 505), ('ሄ', 505), ('ጠ', 498), ('ቀ', 491), ('ሳ', 489), ('ማ', 474), ('ቱ', 460), ('ሱ', 456), ('ዳ', 408), ('ሞ', 387), ('ሴ', 372), ('ዋ', 352), ('ጋ', 348), ('ጥ', 343), ('ቶ', 329), ('ኤ', 312), ('ፈ', 311), ('ሚ', 305), ('ጣ', 304), ('ቅ', 301), ('ቆ', 299), ('ቃ', 283), ('ኝ', 282), ('ዲ', 274), ('ጅ', 267), ('ክ', 266), ('ኔ', 255), ('ጆ', 245), ('ሎ', 235), ('ቹ', 233), ('ካ', 231), ('ዮ', 217), ('ኛ', 215), ('ኖ', 211), ('ቤ', 197), ('ሪ', 196), ('ሩ', 191), ('ዛ', 184), ('ፊ', 182), ('ኦ', 174), ('ዎ', 170), ('ቴ', 160), ('ፅ', 155), ('ሌ', 150), ('ዱ', 144), ('ጊ', 143), ('ዜ', 143), ('ጉ', 141), ('ጐ', 140), ('ኑ', 139), ('ጡ', 134), ('ፋ', 133), ('ኋ', 133), ('ዶ', 131), ('ሬ', 131), ('ሙ', 130), ('ዝ', 125), ('ሶ', 125), ('ቻ', 121), ('ሸ', 117), ('ሽ', 115), ('ጌ', 114), ('ሮ', 106), ('ሜ', 97), ('ቁ', 88), ('ዬ', 87), ('ቡ', 83), ('ሊ', 79), ('ቢ', 79), ('ኮ', 74), ('ፀ', 73), ('ጁ', 73), ('ዙ', 70), ('ሻ', 68), ('ዊ', 68), ('ጀ', 63), ('ሲ', 61), ('ቼ', 60), ('ጄ', 55), ('ኪ', 54), ('ቦ', 54), ('ፉ', 53), ('ኘ', 53), ('ኬ', 51), ('ጭ', 51), ('ኩ', 50), ('ዞ', 50), ('ጢ', 44), ('ዴ', 41), ('ጓ', 40), ('ጨ', 39), ('ዩ', 36), ('ቂ', 35), ('ፎ', 35), ('ጃ', 34), ('ሹ', 33), ('ፃ', 30), ('ኳ', 28), ('ቲ', 25), ('ፌ', 25), ('ቋ', 23), ('ኞ', 22), ('ሂ', 22), ('ጫ', 20), ('ኙ', 20), ('ጦ', 19), ('ሺ', 19), ('ጂ', 17), ('ፁ', 17), ('ኡ', 16), ('ሾ', 14), ('ቺ', 14), ('ዥ', 13), ('ቄ', 13), ('ኒ', 12), ('ኢ', 11), ('ጮ', 10), ('ጪ', 9), ('ፄ', 5), ('ጩ', 5), ('ቾ', 5), ('ዌ', 4), ('ዉ', 4), ('ዣ', 4), ('ዪ', 4), ('ኚ', 3), ('ጤ', 3), ('ጴ', 2), ('ጲ', 2), ('ሼ', 2), ('ጳ', 1), ('ጶ', 1), ('ጵ', 1), ('ጬ', 1), ('ዤ', 1), ('ፆ', 1), ('ፓ', 1), ('ኜ', 1), ('ፐ', 1), ('ዦ', 1)]\n"
     ]
    }
   ],
   "source": [
    "from src.json_generator import generate_json\n",
    "from src.redundant import remove_redundant\n",
    "\n",
    "remove_redundant(\"data_bbl/train_corpus.json\")"
   ]
  }
 ],
 "metadata": {
  "kernelspec": {
   "display_name": "Python 3",
   "language": "python",
   "name": "python3"
  },
  "language_info": {
   "codemirror_mode": {
    "name": "ipython",
    "version": 3
   },
   "file_extension": ".py",
   "mimetype": "text/x-python",
   "name": "python",
   "nbconvert_exporter": "python",
   "pygments_lexer": "ipython3",
   "version": "3.5.2"
  }
 },
 "nbformat": 4,
 "nbformat_minor": 2
}
