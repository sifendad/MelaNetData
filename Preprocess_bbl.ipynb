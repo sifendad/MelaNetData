{
 "cells": [
  {
   "cell_type": "markdown",
   "metadata": {},
   "source": [
    "## Prepare wav"
   ]
  },
  {
   "cell_type": "code",
   "execution_count": null,
   "metadata": {},
   "outputs": [],
   "source": [
    "import glob\n",
    "import subprocess\n",
    "\n",
    "def convert_wav(base_dir, output_dir):\n",
    "    files = glob.glob(base_dir + \"/*.mp3\")\n",
    "    if not files:\n",
    "        raise Exception(\"Directory doesn't exist, or there are no mp3 files inside it \" + base_dir)\n",
    "    for file in files:\n",
    "        filename = file.split(\"/\")[-1].split(\".\")[0]\n",
    "        cmd = \"avconv -y -f mp3 -i \" + file + \" -ab 64k -ac 1 -ar 16000 -f wav \" + output_dir + \"/\" + filename + \".wav\"\n",
    "        subprocess.call(cmd, shell=True)\n",
    "\n",
    "convert_wav(\"data_bbl/mp3split\", \"data_bbl/wav\")"
   ]
  },
  {
   "cell_type": "code",
   "execution_count": 16,
   "metadata": {},
   "outputs": [],
   "source": [
    "def write_lines(lines, file):\n",
    "    with open(file, 'w') as f:\n",
    "        for line in lines:\n",
    "            f.write(\"%s\\n\" % line.replace(\"\\n\", \"\"))"
   ]
  },
  {
   "cell_type": "code",
   "execution_count": 8,
   "metadata": {},
   "outputs": [],
   "source": [
    "import glob\n",
    "import os\n",
    "\n",
    "def generate_csv(base_dir, output_file):\n",
    "    trans_aggregate = sorted(glob.glob(base_dir + \"/*\"))\n",
    "    if not trans_aggregate:\n",
    "        raise Exception(\"Directory doesn't exist, or there are no files inside it \" + base_dir)\n",
    "    trans_all = []\n",
    "    for trans in trans_aggregate:\n",
    "        file_prefix = trans.split(\"/\")[-1].split(\".\")[0]\n",
    "        lines = open(trans).readlines()\n",
    "        i = 1\n",
    "        for line in lines:\n",
    "            filename = file_prefix + \"-\" + str(i).zfill(2) + \".wav\"\n",
    "            trans_all.append(line.strip() + \",\" + filename)\n",
    "            i += 1\n",
    "    write_lines(trans_all, output_file)\n",
    "\n",
    "generate_csv(\"data_bbl/transc/processed\", \"data_bbl/trans.csv\")"
   ]
  },
  {
   "cell_type": "markdown",
   "metadata": {},
   "source": [
    "## Prepare json files describing train and valid data "
   ]
  },
  {
   "cell_type": "code",
   "execution_count": 17,
   "metadata": {},
   "outputs": [],
   "source": [
    "from src.json_generator import generate_json\n",
    "from random import shuffle\n",
    "\n",
    "def split_file(file):\n",
    "    lines = open(file).readlines()\n",
    "    shuffle(lines)\n",
    "    train_end = int(len(lines)*.95)\n",
    "    train = lines[:train_end]\n",
    "    valid = lines[train_end:]\n",
    "    return train,valid\n",
    "\n",
    "train,valid = split_file(\"data_bbl/trans.csv\")\n",
    "write_lines(train, \"data_bbl/train_trans.csv\")\n",
    "write_lines(valid, \"data_bbl/valid_trans.csv\")\n",
    "generate_json(\"data_bbl/train_trans.csv\", \"data_bbl/wav\", \"data_bbl/train_corpus.json\")\n",
    "generate_json(\"data_bbl/valid_trans.csv\", \"data_bbl/wav\", \"data_bbl/valid_corpus.json\")"
   ]
  },
  {
   "cell_type": "markdown",
   "metadata": {},
   "source": [
    "## Remove characters with the same sound"
   ]
  },
  {
   "cell_type": "code",
   "execution_count": 18,
   "metadata": {},
   "outputs": [
    {
     "name": "stdout",
     "output_type": "stream",
     "text": [
      "== Unsupported characters ==\n",
      "set()\n",
      "== Character stat ==\n",
      "[(' ', 16928), ('ን', 4816), ('ም', 4562), ('አ', 3412), ('እ', 2901), ('ር', 2590), ('በ', 2299), ('ለ', 2245), ('ው', 2234), ('ት', 2216), ('ል', 1839), ('ስ', 1638), ('ብ', 1535), ('ነ', 1521), ('የ', 1438), ('ች', 1369), ('ወ', 1318), ('ደ', 1313), ('ድ', 1288), ('ህ', 1264), ('ና', 1222), ('ከ', 1208), ('ይ', 1183), ('መ', 1154), ('ሁ', 1070), ('ተ', 1039), ('ያ', 1029), ('ላ', 982), ('ሰ', 952), ('ግ', 936), ('ባ', 934), ('ራ', 932), ('ገ', 877), ('ረ', 769), ('ዚ', 645), ('ሀ', 587), ('ፍ', 577), ('ቸ', 557), ('ታ', 519), ('ሆ', 516), ('ሉ', 513), ('ሄ', 479), ('ቀ', 473), ('ዘ', 473), ('ማ', 463), ('ሳ', 461), ('ጠ', 458), ('ቱ', 443), ('ሱ', 430), ('ዳ', 391), ('ሞ', 374), ('ሴ', 362), ('ጋ', 329), ('ዋ', 329), ('ጥ', 326), ('ቶ', 317), ('ኤ', 300), ('ፈ', 300), ('ሚ', 293), ('ቅ', 290), ('ጣ', 286), ('ቆ', 284), ('ኝ', 271), ('ቃ', 267), ('ክ', 257), ('ዲ', 257), ('ጅ', 250), ('ኔ', 244), ('ጆ', 229), ('ቹ', 221), ('ካ', 220), ('ሎ', 215), ('ዮ', 213), ('ኛ', 206), ('ኖ', 203), ('ቤ', 191), ('ሩ', 184), ('ሪ', 176), ('ፊ', 173), ('ዛ', 167), ('ኦ', 165), ('ዎ', 161), ('ቴ', 154), ('ፅ', 150), ('ሌ', 143), ('ዱ', 137), ('ጊ', 137), ('ዜ', 136), ('ጉ', 135), ('ጐ', 135), ('ኑ', 132), ('ፋ', 128), ('ጡ', 128), ('ኋ', 126), ('ሙ', 126), ('ዶ', 125), ('ዝ', 118), ('ሬ', 118), ('ሶ', 117), ('ሸ', 112), ('ጌ', 112), ('ቻ', 110), ('ሽ', 108), ('ሮ', 99), ('ሜ', 94), ('ቁ', 86), ('ዬ', 84), ('ቡ', 81), ('ሊ', 76), ('ቢ', 74), ('ኮ', 71), ('ጁ', 69), ('ፀ', 69), ('ዙ', 67), ('ዊ', 67), ('ሻ', 65), ('ሲ', 61), ('ቼ', 58), ('ጀ', 57), ('ፉ', 52), ('ኘ', 51), ('ጄ', 51), ('ኬ', 50), ('ቦ', 50), ('ኩ', 49), ('ኪ', 49), ('ጭ', 48), ('ዞ', 47), ('ጢ', 42), ('ዴ', 39), ('ጨ', 37), ('ጓ', 36), ('ጃ', 34), ('ዩ', 33), ('ፎ', 32), ('ሹ', 31), ('ፃ', 29), ('ቂ', 29), ('ኳ', 27), ('ቲ', 24), ('ፌ', 24), ('ቋ', 23), ('ኞ', 22), ('ሂ', 21), ('ኙ', 19), ('ጦ', 19), ('ሺ', 18), ('ጫ', 17), ('ጂ', 17), ('ፁ', 15), ('ኡ', 15), ('ሾ', 13), ('ቺ', 13), ('ቄ', 12), ('ኒ', 12), ('ዥ', 11), ('ኢ', 11), ('ጮ', 10), ('ጪ', 7), ('ፄ', 5), ('ቾ', 5), ('ዉ', 4), ('ጩ', 4), ('ዣ', 4), ('ዌ', 4), ('ጤ', 3), ('ኚ', 3), ('ጴ', 2), ('ጲ', 2), ('ዪ', 2), ('ሼ', 1), ('ጳ', 1), ('ፐ', 1), ('ጬ', 1), ('ፆ', 1), ('ጵ', 1), ('ፓ', 1), ('ዦ', 1), ('ዤ', 1), ('ኜ', 1), ('ጶ', 1)]\n",
      "== Unsupported characters ==\n",
      "set()\n",
      "== Character stat ==\n",
      "[(' ', 866), ('ን', 242), ('ም', 234), ('አ', 171), ('እ', 156), ('ለ', 134), ('ር', 130), ('ው', 125), ('ት', 119), ('በ', 112), ('ስ', 88), ('ል', 84), ('ከ', 80), ('ብ', 79), ('ህ', 73), ('ች', 71), ('ድ', 70), ('የ', 69), ('ያ', 66), ('ወ', 65), ('ደ', 64), ('ና', 63), ('ነ', 62), ('ይ', 61), ('መ', 61), ('ግ', 58), ('ላ', 53), ('ሁ', 52), ('ተ', 50), ('ገ', 50), ('ባ', 49), ('ሰ', 42), ('ራ', 42), ('ጠ', 40), ('ሀ', 38), ('ረ', 37), ('ዚ', 36), ('ዘ', 32), ('ሉ', 28), ('ታ', 28), ('ሳ', 28), ('ቸ', 27), ('ሱ', 26), ('ሄ', 26), ('ሆ', 25), ('ፍ', 24), ('ዋ', 23), ('ሪ', 20), ('ሎ', 20), ('ጋ', 19), ('ቀ', 18), ('ጣ', 18), ('ጥ', 17), ('ዳ', 17), ('ቱ', 17), ('ጅ', 17), ('ዲ', 17), ('ዛ', 17), ('ጆ', 16), ('ቃ', 16), ('ቆ', 15), ('ሞ', 13), ('ሬ', 13), ('ቹ', 12), ('ሚ', 12), ('ቶ', 12), ('ኤ', 12), ('ቅ', 11), ('ካ', 11), ('ኔ', 11), ('ቻ', 11), ('ኝ', 11), ('ፈ', 11), ('ማ', 11), ('ሴ', 10), ('ክ', 9), ('ዎ', 9), ('ፊ', 9), ('ኦ', 9), ('ኛ', 9), ('ሶ', 8), ('ኖ', 8), ('ሽ', 7), ('ዝ', 7), ('ሮ', 7), ('ኋ', 7), ('ኑ', 7), ('ሩ', 7), ('ዜ', 7), ('ሌ', 7), ('ዱ', 7), ('ቴ', 6), ('ዶ', 6), ('ጀ', 6), ('ቤ', 6), ('ጉ', 6), ('ቂ', 6), ('ጡ', 6), ('ጊ', 6), ('ፋ', 5), ('ኪ', 5), ('ቢ', 5), ('ፅ', 5), ('ሸ', 5), ('ጐ', 5), ('ጁ', 4), ('ዮ', 4), ('ሙ', 4), ('ጓ', 4), ('ቦ', 4), ('ፀ', 4), ('ጄ', 4), ('ሜ', 3), ('ኮ', 3), ('ፎ', 3), ('ዙ', 3), ('ሊ', 3), ('ዬ', 3), ('ጫ', 3), ('ጭ', 3), ('ዩ', 3), ('ሻ', 3), ('ዞ', 3), ('ዥ', 2), ('ጪ', 2), ('ዴ', 2), ('ጌ', 2), ('ዪ', 2), ('ኘ', 2), ('ሹ', 2), ('ጢ', 2), ('ቁ', 2), ('ፁ', 2), ('ቼ', 2), ('ጨ', 2), ('ቡ', 2), ('ኳ', 1), ('ሂ', 1), ('ሼ', 1), ('ኩ', 1), ('ኬ', 1), ('ፃ', 1), ('ሺ', 1), ('ኙ', 1), ('ኡ', 1), ('ቲ', 1), ('ቄ', 1), ('ሾ', 1), ('ዊ', 1), ('ፉ', 1), ('ቺ', 1), ('ፌ', 1), ('ጩ', 1)]\n"
     ]
    }
   ],
   "source": [
    "from src.json_generator import generate_json\n",
    "from src.redundant import remove_redundant\n",
    "\n",
    "remove_redundant(\"data_bbl/train_corpus.json\")\n",
    "remove_redundant(\"data_bbl/valid_corpus.json\")"
   ]
  },
  {
   "cell_type": "code",
   "execution_count": null,
   "metadata": {},
   "outputs": [],
   "source": []
  }
 ],
 "metadata": {
  "kernelspec": {
   "display_name": "Python 3",
   "language": "python",
   "name": "python3"
  },
  "language_info": {
   "codemirror_mode": {
    "name": "ipython",
    "version": 3
   },
   "file_extension": ".py",
   "mimetype": "text/x-python",
   "name": "python",
   "nbconvert_exporter": "python",
   "pygments_lexer": "ipython3",
   "version": "3.5.2"
  }
 },
 "nbformat": 4,
 "nbformat_minor": 2
}
