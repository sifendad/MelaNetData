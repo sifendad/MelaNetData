{
 "cells": [
  {
   "cell_type": "markdown",
   "metadata": {},
   "source": [
    "## Prepare wav"
   ]
  },
  {
   "cell_type": "code",
   "execution_count": 1,
   "metadata": {},
   "outputs": [],
   "source": [
    "def write_lines(lines, file):\n",
    "    with open(file, 'w') as f:\n",
    "        for line in lines:\n",
    "            f.write(\"%s\\n\" % line.replace(\"\\n\", \"\"))"
   ]
  },
  {
   "cell_type": "code",
   "execution_count": 2,
   "metadata": {},
   "outputs": [],
   "source": [
    "import glob\n",
    "import os\n",
    "\n",
    "def illegal_name(name):\n",
    "    return \"DS_Store\" in name or \"._\" in name\n",
    "\n",
    "def generate_csv(base_dir, output_file):\n",
    "    dirs = os.listdir(base_dir)\n",
    "    trans_all = []\n",
    "    for dir in dirs:\n",
    "        if (illegal_name(dir)):\n",
    "            continue\n",
    "        with open(base_dir + \"/\" + dir + \"/trans.txt\") as f:\n",
    "            trans = f.readlines()\n",
    "        files = list(map(lambda x: x.replace(\".wav\",\"\"), os.listdir(base_dir + \"/\" + dir)))\n",
    "        for file in files:\n",
    "            if (illegal_name(file) or \".txt\" in file):\n",
    "                continue\n",
    "            index = int(file.replace(\".wav\",\"\"))\n",
    "            if (index < 0 or index >= len(trans)):\n",
    "                raise Exception(\"File does not have a corresponding transcription. Should be between {} and {}\".format(0, len(trans)))\n",
    "            trans_all.append(\"{},{}/{}/{}.wav\".format(trans[index],base_dir,dir,file))\n",
    "    write_lines(trans_all, output_file)\n",
    "\n",
    "generate_csv(\"MelaNetDataIVR/data_ivr/wav\", \"MelaNetDataIVR/data_ivr/trans.csv\")"
   ]
  },
  {
   "cell_type": "markdown",
   "metadata": {},
   "source": [
    "## Prepare json files describing train and valid data "
   ]
  },
  {
   "cell_type": "code",
   "execution_count": 3,
   "metadata": {},
   "outputs": [],
   "source": [
    "from src.json_generator import generate_json\n",
    "from random import shuffle\n",
    "\n",
    "def split_file(file):\n",
    "    lines = open(file).readlines()\n",
    "    shuffle(lines)\n",
    "    train_end = int(len(lines)*.95)\n",
    "    train = lines[:train_end]\n",
    "    valid = lines[train_end:]\n",
    "    return train,valid\n",
    "\n",
    "train,valid = split_file(\"MelaNetDataIVR/data_ivr/trans.csv\")\n",
    "write_lines(train, \"MelaNetDataIVR/data_ivr/train_trans.csv\")\n",
    "write_lines(valid, \"MelaNetDataIVR/data_ivr/valid_trans.csv\")\n",
    "generate_json(\"MelaNetDataIVR/data_ivr/train_trans.csv\", \".\", \"MelaNetDataIVR/data_ivr/train_corpus.json\")\n",
    "generate_json(\"MelaNetDataIVR/data_ivr/valid_trans.csv\", \".\", \"MelaNetDataIVR/data_ivr/valid_corpus.json\")"
   ]
  },
  {
   "cell_type": "code",
   "execution_count": 4,
   "metadata": {},
   "outputs": [],
   "source": [
    "from src.csv_generator import generate_csv\n",
    "\n",
    "generate_csv(\"MelaNetDataIVR/data_ivr/train_corpus.json\", \"MelaNetDataIVR/data_ivr/train_trans_md.csv\")\n",
    "generate_csv(\"MelaNetDataIVR/data_ivr/valid_corpus.json\", \"MelaNetDataIVR/data_ivr/valid_trans_md.csv\")"
   ]
  },
  {
   "cell_type": "markdown",
   "metadata": {},
   "source": [
    "## Remove characters with the same sound"
   ]
  },
  {
   "cell_type": "code",
   "execution_count": 5,
   "metadata": {},
   "outputs": [
    {
     "name": "stdout",
     "output_type": "stream",
     "text": [
      "== Unsupported characters ==\n",
      "set()\n",
      "== Character stat ==\n",
      "[(' ', 51282), ('ት', 33215), ('አ', 23935), ('ስ', 23833), ('ም', 14059), ('ድ', 9808), ('ለ', 9794), ('ን', 9327), ('ሁ', 5030), ('ዎ', 4970), ('ይ', 4764), ('ደ', 4764), ('ባ', 4716), ('ሰ', 4716), ('ሮ', 4667), ('ዜ', 4667), ('ራ', 4655), ('ዘ', 4575), ('ጠ', 4575), ('ኝ', 4575), ('ሶ', 4500)]\n",
      "== Unsupported characters ==\n",
      "set()\n",
      "== Character stat ==\n",
      "[(' ', 2700), ('ት', 1713), ('አ', 1272), ('ስ', 1241), ('ም', 739), ('ድ', 530), ('ን', 508), ('ለ', 491), ('ዎ', 280), ('ሰ', 261), ('ሮ', 261), ('ዜ', 261), ('ባ', 261), ('ይ', 246), ('ደ', 246), ('ሁ', 245), ('ዘ', 235), ('ኝ', 235), ('ጠ', 235), ('ራ', 231), ('ሶ', 218)]\n"
     ]
    }
   ],
   "source": [
    "from src.json_generator import generate_json\n",
    "from src.redundant import remove_redundant\n",
    "supported = \"ሁ ለ ም ራ ሮ ሰ ስ ሶ ባ ት ን ኝ አ ዎ ዘ ዜ ይ ደ ድ ጠ\".split()\n",
    "\n",
    "remove_redundant(\"MelaNetDataIVR/data_ivr/train_corpus.json\", char_set=supported)\n",
    "remove_redundant(\"MelaNetDataIVR/data_ivr/valid_corpus.json\", char_set=supported)"
   ]
  },
  {
   "cell_type": "code",
   "execution_count": null,
   "metadata": {},
   "outputs": [],
   "source": []
  }
 ],
 "metadata": {
  "kernelspec": {
   "display_name": "Python 3",
   "language": "python",
   "name": "python3"
  },
  "language_info": {
   "codemirror_mode": {
    "name": "ipython",
    "version": 3
   },
   "file_extension": ".py",
   "mimetype": "text/x-python",
   "name": "python",
   "nbconvert_exporter": "python",
   "pygments_lexer": "ipython3",
   "version": "3.5.2"
  }
 },
 "nbformat": 4,
 "nbformat_minor": 2
}
