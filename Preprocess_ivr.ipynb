{
 "cells": [
  {
   "cell_type": "markdown",
   "metadata": {},
   "source": [
    "## Prepare wav"
   ]
  },
  {
   "cell_type": "code",
   "execution_count": 16,
   "metadata": {},
   "outputs": [],
   "source": [
    "def write_lines(lines, file):\n",
    "    with open(file, 'w') as f:\n",
    "        for line in lines:\n",
    "            f.write(\"%s\\n\" % line.replace(\"\\n\", \"\"))"
   ]
  },
  {
   "cell_type": "code",
   "execution_count": 31,
   "metadata": {},
   "outputs": [],
   "source": [
    "import glob\n",
    "import os\n",
    "\n",
    "def generate_csv(base_dir, sentences_file, output_file):\n",
    "    with open(sentences_file) as f:\n",
    "        sentences = f.readlines()\n",
    "    dirs = os.listdir(base_dir)\n",
    "    dirs.sort(key=int)\n",
    "    trans_all = []\n",
    "    for dir in dirs:\n",
    "        files = list(map(lambda x: x.replace(\".wav\",\"\"), os.listdir(base_dir + \"/\" + dir)))\n",
    "        files.sort(key=int)\n",
    "        for file in files:\n",
    "            index = int(file.replace(\".wav\",\"\"))\n",
    "            if (index < 0 or index >= len(sentences)):\n",
    "                raise Exception(\"File does not have a corresponding transcription. Should be between {} and {}\".format(0, len(sentences)))\n",
    "            trans_all.append(\"{},{}/{}/{}.wav\".format(sentences[index],base_dir,dir,file))\n",
    "    write_lines(trans_all, output_file)\n",
    "generate_csv(\"MelaNetDataIVR/data_ivr/wav\", \"MelaNetDataIVR/data_ivr/sentences\", \"MelaNetDataIVR/data_ivr/trans.csv\")"
   ]
  },
  {
   "cell_type": "markdown",
   "metadata": {},
   "source": [
    "## Prepare json files describing train and valid data "
   ]
  },
  {
   "cell_type": "code",
   "execution_count": 33,
   "metadata": {},
   "outputs": [],
   "source": [
    "from src.json_generator import generate_json\n",
    "from random import shuffle\n",
    "\n",
    "def split_file(file):\n",
    "    lines = open(file).readlines()\n",
    "    shuffle(lines)\n",
    "    train_end = int(len(lines)*.95)\n",
    "    train = lines[:train_end]\n",
    "    valid = lines[train_end:]\n",
    "    return train,valid\n",
    "\n",
    "train,valid = split_file(\"MelaNetDataIVR/data_ivr/trans.csv\")\n",
    "write_lines(train, \"MelaNetDataIVR/data_ivr/train_trans.csv\")\n",
    "write_lines(valid, \"MelaNetDataIVR/data_ivr/valid_trans.csv\")\n",
    "generate_json(\"MelaNetDataIVR/data_ivr/train_trans.csv\", \".\", \"MelaNetDataIVR/data_ivr/train_corpus.json\")\n",
    "generate_json(\"MelaNetDataIVR/data_ivr/valid_trans.csv\", \".\", \"MelaNetDataIVR/data_ivr/valid_corpus.json\")"
   ]
  },
  {
   "cell_type": "markdown",
   "metadata": {},
   "source": [
    "## Remove characters with the same sound"
   ]
  },
  {
   "cell_type": "code",
   "execution_count": 36,
   "metadata": {},
   "outputs": [
    {
     "name": "stdout",
     "output_type": "stream",
     "text": [
      "== Unsupported characters ==\n",
      "set()\n",
      "== Character stat ==\n",
      "[(' ', 8550), ('ት', 5533), ('አ', 4005), ('ስ', 3971), ('ም', 2362), ('ለ', 1631), ('ድ', 1626), ('ን', 1563), ('ዎ', 841), ('ሁ', 832), ('ደ', 799), ('ይ', 799), ('ሰ', 786), ('ባ', 786), ('ዜ', 785), ('ሮ', 785), ('ራ', 775), ('ጠ', 747), ('ኝ', 747), ('ዘ', 747), ('ሶ', 746)]\n",
      "== Unsupported characters ==\n",
      "set()\n",
      "== Character stat ==\n",
      "[(' ', 450), ('ት', 307), ('ስ', 221), ('አ', 187), ('ም', 112), ('ለ', 89), ('ድ', 86), ('ን', 71), ('ጠ', 55), ('ዘ', 55), ('ኝ', 55), ('ሁ', 54), ('ሶ', 46), ('ሰ', 42), ('ባ', 42), ('ራ', 39), ('ደ', 35), ('ይ', 35), ('ዜ', 33), ('ሮ', 33), ('ዎ', 33)]\n"
     ]
    }
   ],
   "source": [
    "from src.json_generator import generate_json\n",
    "from src.redundant import remove_redundant\n",
    "supported = \"ሁ ለ ም ራ ሮ ሰ ስ ሶ ባ ት ን ኝ አ ዎ ዘ ዜ ይ ደ ድ ጠ\".split()\n",
    "\n",
    "remove_redundant(\"MelaNetDataIVR/data_ivr/train_corpus.json\", char_set=supported)\n",
    "remove_redundant(\"MelaNetDataIVR/data_ivr/valid_corpus.json\", char_set=supported)"
   ]
  },
  {
   "cell_type": "code",
   "execution_count": null,
   "metadata": {},
   "outputs": [],
   "source": []
  }
 ],
 "metadata": {
  "kernelspec": {
   "display_name": "Python 3",
   "language": "python",
   "name": "python3"
  },
  "language_info": {
   "codemirror_mode": {
    "name": "ipython",
    "version": 3
   },
   "file_extension": ".py",
   "mimetype": "text/x-python",
   "name": "python",
   "nbconvert_exporter": "python",
   "pygments_lexer": "ipython3",
   "version": "3.5.2"
  }
 },
 "nbformat": 4,
 "nbformat_minor": 2
}
