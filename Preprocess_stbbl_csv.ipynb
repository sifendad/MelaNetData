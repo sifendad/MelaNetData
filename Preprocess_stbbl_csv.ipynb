{
 "cells": [
  {
   "cell_type": "markdown",
   "metadata": {},
   "source": [
    "## Generate csv for stbbl"
   ]
  },
  {
   "cell_type": "code",
   "execution_count": 3,
   "metadata": {},
   "outputs": [],
   "source": [
    "from src.csv_generator import generate_csv\n",
    "\n",
    "generate_csv(\"data_stbbl/train_corpus.json\", \"data_stbbl/train_corpus_md.csv\")\n",
    "generate_csv(\"data_stbbl/valid_corpus.json\", \"data_stbbl/valid_corpus_md.csv\")"
   ]
  },
  {
   "cell_type": "code",
   "execution_count": 1,
   "metadata": {},
   "outputs": [],
   "source": [
    "from src.redundant import supported\n",
    "from src.csv_generator import generate_alphabet\n",
    "\n",
    "generate_alphabet(supported, \"data_stbbl/alphabet.txt\")"
   ]
  }
 ],
 "metadata": {
  "kernelspec": {
   "display_name": "Python 3",
   "language": "python",
   "name": "python3"
  },
  "language_info": {
   "codemirror_mode": {
    "name": "ipython",
    "version": 3
   },
   "file_extension": ".py",
   "mimetype": "text/x-python",
   "name": "python",
   "nbconvert_exporter": "python",
   "pygments_lexer": "ipython3",
   "version": "3.5.2"
  }
 },
 "nbformat": 4,
 "nbformat_minor": 2
}
